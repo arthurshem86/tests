{
 "cells": [
  {
   "cell_type": "markdown",
   "metadata": {},
   "source": [
    "# Machine learning using regression models\n",
    "In this exploratory analysis we shall use machine learning models on data available in the google cloud to assess the performance of the different models.\n",
    "We shall start with linear regression and follow it up with logistic regression. This is the first time we testing out regression models."
   ]
  },
  {
   "cell_type": "code",
   "execution_count": 1,
   "metadata": {},
   "outputs": [],
   "source": [
    "# Importing the required libraries\n",
    "# General library\n",
    "import io\n",
    "\n",
    "# data manipulation\n",
    "import pandas as pd\n",
    "import numpy as np\n",
    "\n",
    "# machine learning\n",
    "import sklearn\n",
    "\n",
    "# data visualization\n",
    "import plotly.express as px\n",
    "from plotly.subplots import make_subplots\n",
    "import plotly.graph_objects as go\n",
    "import seaborn as sns"
   ]
  },
  {
   "cell_type": "markdown",
   "metadata": {},
   "source": [
    "### Chicago taxi data set\n",
    "To explore the data we shall the chicago taxi data set. We downloaded this from google. \n",
    "Since the data set is large, we shall select features of interest to be used for training our model"
   ]
  },
  {
   "cell_type": "code",
   "execution_count": 2,
   "metadata": {},
   "outputs": [],
   "source": [
    "# Reading in the data to be explored\n",
    "taxi_data = pd.read_csv(\"https://download.mlcc.google.com/mledu-datasets/chicago_taxi_train.csv\")"
   ]
  },
  {
   "cell_type": "code",
   "execution_count": 3,
   "metadata": {},
   "outputs": [
    {
     "data": {
      "text/html": [
       "<div>\n",
       "<style scoped>\n",
       "    .dataframe tbody tr th:only-of-type {\n",
       "        vertical-align: middle;\n",
       "    }\n",
       "\n",
       "    .dataframe tbody tr th {\n",
       "        vertical-align: top;\n",
       "    }\n",
       "\n",
       "    .dataframe thead th {\n",
       "        text-align: right;\n",
       "    }\n",
       "</style>\n",
       "<table border=\"1\" class=\"dataframe\">\n",
       "  <thead>\n",
       "    <tr style=\"text-align: right;\">\n",
       "      <th></th>\n",
       "      <th>TRIP_START_TIMESTAMP</th>\n",
       "      <th>TRIP_END_TIMESTAMP</th>\n",
       "      <th>TRIP_START_HOUR</th>\n",
       "      <th>TRIP_SECONDS</th>\n",
       "      <th>TRIP_MILES</th>\n",
       "      <th>TRIP_SPEED</th>\n",
       "      <th>PICKUP_CENSUS_TRACT</th>\n",
       "      <th>DROPOFF_CENSUS_TRACT</th>\n",
       "      <th>PICKUP_COMMUNITY_AREA</th>\n",
       "      <th>DROPOFF_COMMUNITY_AREA</th>\n",
       "      <th>FARE</th>\n",
       "      <th>TIPS</th>\n",
       "      <th>TIP_RATE</th>\n",
       "      <th>TOLLS</th>\n",
       "      <th>EXTRAS</th>\n",
       "      <th>TRIP_TOTAL</th>\n",
       "      <th>PAYMENT_TYPE</th>\n",
       "      <th>COMPANY</th>\n",
       "    </tr>\n",
       "  </thead>\n",
       "  <tbody>\n",
       "    <tr>\n",
       "      <th>0</th>\n",
       "      <td>05/17/2022 7:15:00 AM</td>\n",
       "      <td>05/17/2022 7:45:00 AM</td>\n",
       "      <td>7.25</td>\n",
       "      <td>2341</td>\n",
       "      <td>2.57</td>\n",
       "      <td>4.0</td>\n",
       "      <td>NaN</td>\n",
       "      <td>NaN</td>\n",
       "      <td>NaN</td>\n",
       "      <td>17.0</td>\n",
       "      <td>31.99</td>\n",
       "      <td>2.0</td>\n",
       "      <td>6.3</td>\n",
       "      <td>0.0</td>\n",
       "      <td>0.0</td>\n",
       "      <td>33.99</td>\n",
       "      <td>Mobile</td>\n",
       "      <td>Flash Cab</td>\n",
       "    </tr>\n",
       "    <tr>\n",
       "      <th>1</th>\n",
       "      <td>05/17/2022 5:15:00 PM</td>\n",
       "      <td>05/17/2022 5:30:00 PM</td>\n",
       "      <td>17.25</td>\n",
       "      <td>1074</td>\n",
       "      <td>1.18</td>\n",
       "      <td>4.0</td>\n",
       "      <td>NaN</td>\n",
       "      <td>1.703108e+10</td>\n",
       "      <td>NaN</td>\n",
       "      <td>8.0</td>\n",
       "      <td>9.75</td>\n",
       "      <td>3.0</td>\n",
       "      <td>27.9</td>\n",
       "      <td>0.0</td>\n",
       "      <td>1.0</td>\n",
       "      <td>14.25</td>\n",
       "      <td>Credit Card</td>\n",
       "      <td>Flash Cab</td>\n",
       "    </tr>\n",
       "    <tr>\n",
       "      <th>2</th>\n",
       "      <td>05/17/2022 5:15:00 PM</td>\n",
       "      <td>05/17/2022 5:30:00 PM</td>\n",
       "      <td>17.25</td>\n",
       "      <td>1173</td>\n",
       "      <td>1.29</td>\n",
       "      <td>4.0</td>\n",
       "      <td>1.703132e+10</td>\n",
       "      <td>1.703108e+10</td>\n",
       "      <td>32.0</td>\n",
       "      <td>8.0</td>\n",
       "      <td>10.25</td>\n",
       "      <td>0.0</td>\n",
       "      <td>0.0</td>\n",
       "      <td>0.0</td>\n",
       "      <td>0.0</td>\n",
       "      <td>10.25</td>\n",
       "      <td>Cash</td>\n",
       "      <td>Sun Taxi</td>\n",
       "    </tr>\n",
       "    <tr>\n",
       "      <th>3</th>\n",
       "      <td>05/17/2022 6:00:00 PM</td>\n",
       "      <td>05/17/2022 7:00:00 PM</td>\n",
       "      <td>18.00</td>\n",
       "      <td>3360</td>\n",
       "      <td>3.70</td>\n",
       "      <td>4.0</td>\n",
       "      <td>1.703132e+10</td>\n",
       "      <td>1.703124e+10</td>\n",
       "      <td>32.0</td>\n",
       "      <td>24.0</td>\n",
       "      <td>23.75</td>\n",
       "      <td>0.0</td>\n",
       "      <td>0.0</td>\n",
       "      <td>0.0</td>\n",
       "      <td>1.0</td>\n",
       "      <td>24.75</td>\n",
       "      <td>Cash</td>\n",
       "      <td>Choice Taxi Association</td>\n",
       "    </tr>\n",
       "    <tr>\n",
       "      <th>4</th>\n",
       "      <td>05/17/2022 5:00:00 PM</td>\n",
       "      <td>05/17/2022 5:30:00 PM</td>\n",
       "      <td>17.00</td>\n",
       "      <td>1044</td>\n",
       "      <td>1.15</td>\n",
       "      <td>4.0</td>\n",
       "      <td>1.703132e+10</td>\n",
       "      <td>1.703108e+10</td>\n",
       "      <td>32.0</td>\n",
       "      <td>8.0</td>\n",
       "      <td>10.00</td>\n",
       "      <td>0.0</td>\n",
       "      <td>0.0</td>\n",
       "      <td>0.0</td>\n",
       "      <td>0.0</td>\n",
       "      <td>10.00</td>\n",
       "      <td>Cash</td>\n",
       "      <td>Flash Cab</td>\n",
       "    </tr>\n",
       "  </tbody>\n",
       "</table>\n",
       "</div>"
      ],
      "text/plain": [
       "    TRIP_START_TIMESTAMP     TRIP_END_TIMESTAMP  TRIP_START_HOUR  \\\n",
       "0  05/17/2022 7:15:00 AM  05/17/2022 7:45:00 AM             7.25   \n",
       "1  05/17/2022 5:15:00 PM  05/17/2022 5:30:00 PM            17.25   \n",
       "2  05/17/2022 5:15:00 PM  05/17/2022 5:30:00 PM            17.25   \n",
       "3  05/17/2022 6:00:00 PM  05/17/2022 7:00:00 PM            18.00   \n",
       "4  05/17/2022 5:00:00 PM  05/17/2022 5:30:00 PM            17.00   \n",
       "\n",
       "   TRIP_SECONDS  TRIP_MILES  TRIP_SPEED  PICKUP_CENSUS_TRACT  \\\n",
       "0          2341        2.57         4.0                  NaN   \n",
       "1          1074        1.18         4.0                  NaN   \n",
       "2          1173        1.29         4.0         1.703132e+10   \n",
       "3          3360        3.70         4.0         1.703132e+10   \n",
       "4          1044        1.15         4.0         1.703132e+10   \n",
       "\n",
       "   DROPOFF_CENSUS_TRACT  PICKUP_COMMUNITY_AREA  DROPOFF_COMMUNITY_AREA   FARE  \\\n",
       "0                   NaN                    NaN                    17.0  31.99   \n",
       "1          1.703108e+10                    NaN                     8.0   9.75   \n",
       "2          1.703108e+10                   32.0                     8.0  10.25   \n",
       "3          1.703124e+10                   32.0                    24.0  23.75   \n",
       "4          1.703108e+10                   32.0                     8.0  10.00   \n",
       "\n",
       "   TIPS  TIP_RATE  TOLLS  EXTRAS  TRIP_TOTAL PAYMENT_TYPE  \\\n",
       "0   2.0       6.3    0.0     0.0       33.99       Mobile   \n",
       "1   3.0      27.9    0.0     1.0       14.25  Credit Card   \n",
       "2   0.0       0.0    0.0     0.0       10.25         Cash   \n",
       "3   0.0       0.0    0.0     1.0       24.75         Cash   \n",
       "4   0.0       0.0    0.0     0.0       10.00         Cash   \n",
       "\n",
       "                   COMPANY  \n",
       "0                Flash Cab  \n",
       "1                Flash Cab  \n",
       "2                 Sun Taxi  \n",
       "3  Choice Taxi Association  \n",
       "4                Flash Cab  "
      ]
     },
     "execution_count": 3,
     "metadata": {},
     "output_type": "execute_result"
    }
   ],
   "source": [
    "# exploring the data\n",
    "\n",
    "taxi_data.head()"
   ]
  },
  {
   "cell_type": "code",
   "execution_count": 4,
   "metadata": {},
   "outputs": [
    {
     "data": {
      "text/plain": [
       "pandas.core.frame.DataFrame"
      ]
     },
     "execution_count": 4,
     "metadata": {},
     "output_type": "execute_result"
    }
   ],
   "source": [
    "type(taxi_data) # To know the type of data"
   ]
  },
  {
   "cell_type": "code",
   "execution_count": 7,
   "metadata": {},
   "outputs": [
    {
     "name": "stdout",
     "output_type": "stream",
     "text": [
      "31694\n",
      "(31694, 18)\n"
     ]
    }
   ],
   "source": [
    "print(len(taxi_data))\n",
    "print(taxi_data.shape)\n"
   ]
  },
  {
   "cell_type": "code",
   "execution_count": 8,
   "metadata": {},
   "outputs": [
    {
     "name": "stdout",
     "output_type": "stream",
     "text": [
      "<class 'pandas.core.frame.DataFrame'>\n",
      "RangeIndex: 31694 entries, 0 to 31693\n",
      "Data columns (total 18 columns):\n",
      " #   Column                  Non-Null Count  Dtype  \n",
      "---  ------                  --------------  -----  \n",
      " 0   TRIP_START_TIMESTAMP    31694 non-null  object \n",
      " 1   TRIP_END_TIMESTAMP      31694 non-null  object \n",
      " 2   TRIP_START_HOUR         31694 non-null  float64\n",
      " 3   TRIP_SECONDS            31694 non-null  int64  \n",
      " 4   TRIP_MILES              31694 non-null  float64\n",
      " 5   TRIP_SPEED              31694 non-null  float64\n",
      " 6   PICKUP_CENSUS_TRACT     13259 non-null  float64\n",
      " 7   DROPOFF_CENSUS_TRACT    14023 non-null  float64\n",
      " 8   PICKUP_COMMUNITY_AREA   28477 non-null  float64\n",
      " 9   DROPOFF_COMMUNITY_AREA  28199 non-null  float64\n",
      " 10  FARE                    31694 non-null  float64\n",
      " 11  TIPS                    31694 non-null  float64\n",
      " 12  TIP_RATE                31694 non-null  float64\n",
      " 13  TOLLS                   31694 non-null  float64\n",
      " 14  EXTRAS                  31694 non-null  float64\n",
      " 15  TRIP_TOTAL              31694 non-null  float64\n",
      " 16  PAYMENT_TYPE            31694 non-null  object \n",
      " 17  COMPANY                 31694 non-null  object \n",
      "dtypes: float64(13), int64(1), object(4)\n",
      "memory usage: 4.4+ MB\n"
     ]
    }
   ],
   "source": [
    "taxi_data.info()"
   ]
  },
  {
   "cell_type": "code",
   "execution_count": 10,
   "metadata": {},
   "outputs": [
    {
     "data": {
      "text/html": [
       "<div>\n",
       "<style scoped>\n",
       "    .dataframe tbody tr th:only-of-type {\n",
       "        vertical-align: middle;\n",
       "    }\n",
       "\n",
       "    .dataframe tbody tr th {\n",
       "        vertical-align: top;\n",
       "    }\n",
       "\n",
       "    .dataframe thead th {\n",
       "        text-align: right;\n",
       "    }\n",
       "</style>\n",
       "<table border=\"1\" class=\"dataframe\">\n",
       "  <thead>\n",
       "    <tr style=\"text-align: right;\">\n",
       "      <th></th>\n",
       "      <th>TRIP_START_TIMESTAMP</th>\n",
       "      <th>TRIP_END_TIMESTAMP</th>\n",
       "      <th>PAYMENT_TYPE</th>\n",
       "      <th>COMPANY</th>\n",
       "    </tr>\n",
       "  </thead>\n",
       "  <tbody>\n",
       "    <tr>\n",
       "      <th>count</th>\n",
       "      <td>31694</td>\n",
       "      <td>31694</td>\n",
       "      <td>31694</td>\n",
       "      <td>31694</td>\n",
       "    </tr>\n",
       "    <tr>\n",
       "      <th>unique</th>\n",
       "      <td>193</td>\n",
       "      <td>195</td>\n",
       "      <td>7</td>\n",
       "      <td>31</td>\n",
       "    </tr>\n",
       "    <tr>\n",
       "      <th>top</th>\n",
       "      <td>05/17/2022 5:00:00 PM</td>\n",
       "      <td>05/17/2022 6:00:00 PM</td>\n",
       "      <td>Credit Card</td>\n",
       "      <td>Flash Cab</td>\n",
       "    </tr>\n",
       "    <tr>\n",
       "      <th>freq</th>\n",
       "      <td>331</td>\n",
       "      <td>343</td>\n",
       "      <td>14142</td>\n",
       "      <td>7887</td>\n",
       "    </tr>\n",
       "  </tbody>\n",
       "</table>\n",
       "</div>"
      ],
      "text/plain": [
       "         TRIP_START_TIMESTAMP     TRIP_END_TIMESTAMP PAYMENT_TYPE    COMPANY\n",
       "count                   31694                  31694        31694      31694\n",
       "unique                    193                    195            7         31\n",
       "top     05/17/2022 5:00:00 PM  05/17/2022 6:00:00 PM  Credit Card  Flash Cab\n",
       "freq                      331                    343        14142       7887"
      ]
     },
     "execution_count": 10,
     "metadata": {},
     "output_type": "execute_result"
    }
   ],
   "source": [
    "# Showing the statistics\n",
    "taxi_data.describe(include=object)"
   ]
  },
  {
   "cell_type": "code",
   "execution_count": 11,
   "metadata": {},
   "outputs": [
    {
     "data": {
      "text/plain": [
       "PAYMENT_TYPE\n",
       "Credit Card    14142\n",
       "Cash            8770\n",
       "Mobile          4041\n",
       "Prcard          3504\n",
       "Unknown         1206\n",
       "No Charge         16\n",
       "Dispute           15\n",
       "Name: count, dtype: int64"
      ]
     },
     "execution_count": 11,
     "metadata": {},
     "output_type": "execute_result"
    }
   ],
   "source": [
    "# Checking how often each company appears\n",
    "taxi_data['PAYMENT_TYPE'].value_counts()"
   ]
  },
  {
   "cell_type": "code",
   "execution_count": 12,
   "metadata": {},
   "outputs": [
    {
     "data": {
      "text/plain": [
       "COMPANY\n",
       "Flash Cab                               7887\n",
       "Taxi Affiliation Services               4371\n",
       "Sun Taxi                                4024\n",
       "City Service                            3199\n",
       "Chicago Independents                    1800\n",
       "Medallion Leasin                        1390\n",
       "Taxicab Insurance Agency, LLC           1365\n",
       "Globe Taxi                              1309\n",
       "Taxicab Insurance Agency Llc            1167\n",
       "Star North Taxi Management Llc          1096\n",
       "Blue Ribbon Taxi Association             919\n",
       "Choice Taxi Association                  752\n",
       "Top Cab Affiliation                      721\n",
       "24 Seven Taxi                            708\n",
       "U Taxicab                                424\n",
       "Patriot Taxi Dba Peace Taxi Associat     131\n",
       "Chicago Taxicab                          128\n",
       "Koam Taxi Association                     43\n",
       "312 Medallion Management Corp             40\n",
       "Blue Ribbon Taxi Association Inc.         39\n",
       "Petani Cab Corp                           39\n",
       "KOAM Taxi Association                     28\n",
       "Metro Jet Taxi A.                         24\n",
       "Top Cab                                   21\n",
       "Setare Inc                                15\n",
       "6574 - Babylon Express Inc.               14\n",
       "4787 - 56058 Reny Cab Co                  10\n",
       "3556 - 36214 RC Andrews Cab               10\n",
       "4623 - 27290 Jay Kim                      10\n",
       "2733 - 74600 Benny Jona                    6\n",
       "4053 - 40193 Adwar H. Nikola               4\n",
       "Name: count, dtype: int64"
      ]
     },
     "execution_count": 12,
     "metadata": {},
     "output_type": "execute_result"
    }
   ],
   "source": [
    "# Checking the company too\n",
    "taxi_data['COMPANY'].value_counts()"
   ]
  },
  {
   "cell_type": "code",
   "execution_count": 13,
   "metadata": {},
   "outputs": [
    {
     "data": {
      "text/plain": [
       "PAYMENT_TYPE\n",
       "Prcard         2570\n",
       "Cash           2567\n",
       "Credit Card    2360\n",
       "Mobile          390\n",
       "Name: count, dtype: int64"
      ]
     },
     "execution_count": 13,
     "metadata": {},
     "output_type": "execute_result"
    }
   ],
   "source": [
    "# Checking how many flash cab users pay using cards\n",
    "taxi_data.loc[taxi_data[\"COMPANY\"] == \"Flash Cab\", \"PAYMENT_TYPE\"].value_counts()"
   ]
  }
 ],
 "metadata": {
  "kernelspec": {
   "display_name": "base",
   "language": "python",
   "name": "python3"
  },
  "language_info": {
   "codemirror_mode": {
    "name": "ipython",
    "version": 3
   },
   "file_extension": ".py",
   "mimetype": "text/x-python",
   "name": "python",
   "nbconvert_exporter": "python",
   "pygments_lexer": "ipython3",
   "version": "3.11.5"
  }
 },
 "nbformat": 4,
 "nbformat_minor": 2
}
